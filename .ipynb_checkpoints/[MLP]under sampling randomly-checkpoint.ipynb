{
 "cells": [
  {
   "cell_type": "code",
   "execution_count": 1,
   "metadata": {},
   "outputs": [
    {
     "name": "stderr",
     "output_type": "stream",
     "text": [
      "Using TensorFlow backend.\n"
     ]
    }
   ],
   "source": [
    "%matplotlib inline\n",
    "\n",
    "import numpy\n",
    "import pandas\n",
    "import numpy as np\n",
    "import pandas as pd\n",
    "from keras.models import Sequential\n",
    "from keras.layers import Dense\n",
    "from keras.wrappers.scikit_learn import KerasClassifier\n",
    "from sklearn.model_selection import cross_val_score\n",
    "from sklearn.preprocessing import LabelEncoder\n",
    "from sklearn.model_selection import StratifiedKFold\n",
    "from sklearn.preprocessing import StandardScaler\n",
    "from sklearn.pipeline import Pipeline\n",
    "from sklearn.metrics import confusion_matrix\n",
    "from rdkit.Chem import AllChem\n",
    "from rdkit import DataStructs\n",
    "from rdkit.Chem import Draw\n",
    "from rdkit.Chem.Draw import SimilarityMaps\n",
    "from rdkit import Chem, DataStructs\n",
    "import seaborn as sns\n",
    "import matplotlib as mpl\n",
    "import matplotlib.pyplot as plt\n",
    "from sklearn.model_selection import cross_val_predict\n",
    "from sklearn.metrics import confusion_matrix\n",
    "from imblearn.over_sampling import SMOTE\n",
    "from sklearn.metrics import confusion_matrix\n",
    "from sklearn.utils import shuffle"
   ]
  },
  {
   "cell_type": "code",
   "execution_count": 2,
   "metadata": {},
   "outputs": [],
   "source": [
    "#setting the seed for reproducibility\n",
    "#seed = 10110\n",
    "# seed = 1206\n",
    "# numpy.random.seed(seed)\n",
    "\n",
    "#load the dataset\n",
    "dataframe = pandas.read_csv(\"F:/UOSEST/Data/Lyle-pparg-ligand/input/pubchem_data/processed/pparg_ligand_data.txt\", sep=\"\\t\")"
   ]
  },
  {
   "cell_type": "code",
   "execution_count": 3,
   "metadata": {},
   "outputs": [],
   "source": [
    "mols = []\n",
    "fps = []\n",
    "\n",
    "#get molecules and then get fingerprints from those\n",
    "for index, row in dataframe.iterrows():\n",
    "    mol = Chem.MolFromSmiles(row['SMILES'])\n",
    "    fp = AllChem.GetMorganFingerprintAsBitVect(mol, 2)\n",
    "    mols.append(mol)\n",
    "    fps.append(fp)\n",
    "\n",
    "#Convert the RDKit vectors into numpy arrays\n",
    "#Based on: http://www.rdkit.org/docs/Cookbook.html#using-scikit-learn-with-rdkit\n",
    "np_fps = []\n",
    "for fp in fps:\n",
    "    arr = numpy.zeros((1,))\n",
    "    DataStructs.ConvertToNumpyArray(fp, arr)\n",
    "    np_fps.append(arr)\n",
    "\n",
    "np_fps_array = numpy.array(np_fps)\n",
    "#Need to encode my classes\n",
    "#Ligand = 0, not_ligand = 1\n",
    "encoder = LabelEncoder()\n",
    "encoder.fit(dataframe['Type'])\n",
    "enc_y = encoder.transform(dataframe['Type'])"
   ]
  },
  {
   "cell_type": "code",
   "execution_count": 4,
   "metadata": {},
   "outputs": [],
   "source": [
    "#Create the machine learning model\n",
    "from keras import optimizers\n",
    "def create_deep_learning_model():\n",
    "    model = Sequential()\n",
    "    model.add(Dense(2048, input_dim=2048, kernel_initializer='normal', activation='relu'))\n",
    "    model.add(Dense(1024, activation='relu'))\n",
    "    model.add(Dense(100, activation='relu'))\n",
    "    model.add(Dense(1, kernel_initializer='normal', activation='sigmoid'))\n",
    "    model.compile(loss='binary_crossentropy', optimizer='adam', metrics=['accuracy'])\n",
    "    return model"
   ]
  },
  {
   "cell_type": "code",
   "execution_count": 5,
   "metadata": {},
   "outputs": [],
   "source": [
    "\n",
    "from imblearn.under_sampling import *\n",
    "X = np_fps_array\n",
    "Y = enc_y\n",
    "X_under, Y_under = RandomUnderSampler(random_state=0).fit_sample(X, Y)"
   ]
  },
  {
   "cell_type": "code",
   "execution_count": 6,
   "metadata": {},
   "outputs": [
    {
     "data": {
      "text/plain": [
       "1    34\n",
       "0    34\n",
       "dtype: int64"
      ]
     },
     "execution_count": 6,
     "metadata": {},
     "output_type": "execute_result"
    },
    {
     "data": {
      "image/png": "[encoded data removed]",
      "text/plain": [
       "<Figure size 432x288 with 1 Axes>"
      ]
     },
     "metadata": {
      "needs_background": "light"
     },
     "output_type": "display_data"
    }
   ],
   "source": [
    "import seaborn as sns\n",
    "sns.countplot(Y_under)\n",
    "pd.Series(Y_under).value_counts()"
   ]
  },
  {
   "cell_type": "code",
   "execution_count": 7,
   "metadata": {},
   "outputs": [],
   "source": [
    "# numpy.random.seed(a=None)\n",
    "\n",
    "X = X_under\n",
    "Y = Y_under\n",
    "tmp = [[x,y] for x, y in zip(X, Y)]\n",
    "tmp = shuffle(tmp)\n",
    "X = [n[0] for n in tmp]\n",
    "Y = [n[1] for n in tmp]\n",
    "X = np.array(X)\n",
    "Y = np.array(Y)"
   ]
  },
  {
   "cell_type": "code",
   "execution_count": 8,
   "metadata": {},
   "outputs": [],
   "source": [
    "n = len(X)\n",
    "p = 0.8\n",
    "X_test = X[int(n*p):]\n",
    "Y_test = Y[int(n*p):]\n",
    "\n",
    "X_train = X[:int(n*p)]\n",
    "Y_train = Y[:int(n*p)]"
   ]
  },
  {
   "cell_type": "code",
   "execution_count": 9,
   "metadata": {},
   "outputs": [
    {
     "data": {
      "text/plain": [
       "1    27\n",
       "0    27\n",
       "dtype: int64"
      ]
     },
     "execution_count": 9,
     "metadata": {},
     "output_type": "execute_result"
    },
    {
     "data": {
      "image/png": "[encoded data removed]",
      "text/plain": [
       "<Figure size 432x288 with 1 Axes>"
      ]
     },
     "metadata": {
      "needs_background": "light"
     },
     "output_type": "display_data"
    }
   ],
   "source": [
    "import seaborn as sns\n",
    "sns.countplot(Y_train)\n",
    "pd.Series(Y_train).value_counts()"
   ]
  },
  {
   "cell_type": "code",
   "execution_count": 10,
   "metadata": {},
   "outputs": [
    {
     "data": {
      "text/plain": [
       "1    7\n",
       "0    7\n",
       "dtype: int64"
      ]
     },
     "execution_count": 10,
     "metadata": {},
     "output_type": "execute_result"
    },
    {
     "data": {
      "image/png": "[encoded data removed]",
      "text/plain": [
       "<Figure size 432x288 with 1 Axes>"
      ]
     },
     "metadata": {
      "needs_background": "light"
     },
     "output_type": "display_data"
    }
   ],
   "source": [
    "import seaborn as sns\n",
    "sns.countplot(Y_test)\n",
    "pd.Series(Y_test).value_counts()"
   ]
  },
  {
   "cell_type": "code",
   "execution_count": 11,
   "metadata": {},
   "outputs": [
    {
     "name": "stdout",
     "output_type": "stream",
     "text": [
      "Epoch 1/5\n",
      "54/54 [==============================] - 2s 35ms/step - loss: 0.7264 - acc: 0.4630\n",
      "Epoch 2/5\n",
      "54/54 [==============================] - 0s 1ms/step - loss: 0.2869 - acc: 0.9259\n",
      "Epoch 3/5\n",
      "54/54 [==============================] - 0s 1ms/step - loss: 0.0321 - acc: 1.0000A: 0s - loss: 0.0346 - acc: 1.000\n",
      "Epoch 4/5\n",
      "54/54 [==============================] - 0s 1ms/step - loss: 0.0014 - acc: 1.0000\n",
      "Epoch 5/5\n",
      "54/54 [==============================] - 0s 1ms/step - loss: 4.3849e-04 - acc: 1.0000\n"
     ]
    },
    {
     "data": {
      "text/plain": [
       "<keras.callbacks.History at 0x1e5c4977470>"
      ]
     },
     "execution_count": 11,
     "metadata": {},
     "output_type": "execute_result"
    }
   ],
   "source": [
    "estimator = KerasClassifier(build_fn=create_deep_learning_model,epochs=5, batch_size=5)\n",
    "estimator.fit(X_train, Y_train)"
   ]
  },
  {
   "cell_type": "code",
   "execution_count": 12,
   "metadata": {},
   "outputs": [
    {
     "name": "stdout",
     "output_type": "stream",
     "text": [
      "[[1 6]\n",
      " [0 7]]\n",
      "recall = 0.14285714285714285\n",
      "specificity = 1.0\n",
      "acc = 0.5714285714285714\n"
     ]
    }
   ],
   "source": [
    "pred_y = estimator.predict(X_test)\n",
    "conf_mat = confusion_matrix(Y_test, pred_y)\n",
    "print(conf_mat)\n",
    "\n",
    "recall = conf_mat[0][0]/sum(conf_mat[0])\n",
    "specificity = conf_mat[1][1] / sum(conf_mat[1])\n",
    "acc = (conf_mat[0][0] + conf_mat[1][1]) / sum(sum(conf_mat))\n",
    "print(\"recall = \" + str(recall))\n",
    "print(\"specificity = \" + str(specificity))\n",
    "print(\"acc = \" + str(acc))"
   ]
  },
  {
   "cell_type": "code",
   "execution_count": 24,
   "metadata": {},
   "outputs": [
    {
     "name": "stdout",
     "output_type": "stream",
     "text": [
      "Epoch 1/5\n",
      "54/54 [==============================] - 1s 17ms/step - loss: 0.7054 - acc: 0.4444\n",
      "Epoch 2/5\n",
      "54/54 [==============================] - 0s 1ms/step - loss: 0.3918 - acc: 0.9815\n",
      "Epoch 3/5\n",
      "54/54 [==============================] - 0s 1ms/step - loss: 0.0496 - acc: 1.0000\n",
      "Epoch 4/5\n",
      "54/54 [==============================] - 0s 1ms/step - loss: 0.0028 - acc: 1.0000\n",
      "Epoch 5/5\n",
      "54/54 [==============================] - 0s 1ms/step - loss: 8.4757e-04 - acc: 1.0000\n",
      "Epoch 1/5\n",
      "54/54 [==============================] - 1s 17ms/step - loss: 0.7189 - acc: 0.4815\n",
      "Epoch 2/5\n",
      "54/54 [==============================] - 0s 1ms/step - loss: 0.2013 - acc: 1.0000\n",
      "Epoch 3/5\n",
      "54/54 [==============================] - 0s 1ms/step - loss: 0.0266 - acc: 1.0000\n",
      "Epoch 4/5\n",
      "54/54 [==============================] - 0s 1ms/step - loss: 7.7374e-04 - acc: 1.0000\n",
      "Epoch 5/5\n",
      "54/54 [==============================] - 0s 1ms/step - loss: 4.3956e-04 - acc: 1.0000\n",
      "Epoch 1/5\n",
      "54/54 [==============================] - 1s 17ms/step - loss: 0.6873 - acc: 0.5370\n",
      "Epoch 2/5\n",
      "54/54 [==============================] - 0s 1ms/step - loss: 0.2364 - acc: 0.9815\n",
      "Epoch 3/5\n",
      "54/54 [==============================] - 0s 1ms/step - loss: 0.0316 - acc: 1.0000\n",
      "Epoch 4/5\n",
      "54/54 [==============================] - 0s 1ms/step - loss: 6.4987e-04 - acc: 1.0000\n",
      "Epoch 5/5\n",
      "54/54 [==============================] - 0s 1ms/step - loss: 1.1441e-04 - acc: 1.0000\n",
      "Epoch 1/5\n",
      "54/54 [==============================] - 1s 20ms/step - loss: 0.7015 - acc: 0.5000\n",
      "Epoch 2/5\n",
      "54/54 [==============================] - 0s 1ms/step - loss: 0.2434 - acc: 0.9259\n",
      "Epoch 3/5\n",
      "54/54 [==============================] - 0s 1ms/step - loss: 0.0385 - acc: 1.0000\n",
      "Epoch 4/5\n",
      "54/54 [==============================] - 0s 1ms/step - loss: 0.0017 - acc: 1.0000\n",
      "Epoch 5/5\n",
      "54/54 [==============================] - 0s 1ms/step - loss: 0.0018 - acc: 1.0000\n",
      "Epoch 1/5\n",
      "56/56 [==============================] - 1s 18ms/step - loss: 0.6693 - acc: 0.5893\n",
      "Epoch 2/5\n",
      "56/56 [==============================] - 0s 1ms/step - loss: 0.2448 - acc: 0.9286\n",
      "Epoch 3/5\n",
      "56/56 [==============================] - 0s 1ms/step - loss: 0.0234 - acc: 1.0000\n",
      "Epoch 4/5\n",
      "56/56 [==============================] - 0s 1ms/step - loss: 0.0017 - acc: 1.0000\n",
      "Epoch 5/5\n",
      "56/56 [==============================] - 0s 1ms/step - loss: 6.4699e-04 - acc: 1.0000\n"
     ]
    }
   ],
   "source": [
    "estimator = KerasClassifier(build_fn=create_deep_learning_model,epochs=5,batch_size=5)\n",
    "kfold = StratifiedKFold(n_splits=5, shuffle=True)\n",
    "y_pred = cross_val_predict(estimator, X,Y,cv=kfold)"
   ]
  },
  {
   "cell_type": "code",
   "execution_count": 25,
   "metadata": {},
   "outputs": [
    {
     "name": "stdout",
     "output_type": "stream",
     "text": [
      "recall = 0.7058823529411765\n",
      "specificity = 0.7647058823529411\n",
      "acc = 0.7352941176470589\n"
     ]
    }
   ],
   "source": [
    "conf_mat = confusion_matrix(Y, y_pred)\n",
    "conf_mat\n",
    "recall = conf_mat[0][0]/sum(conf_mat[0])\n",
    "specificity = conf_mat[1][1] / sum(conf_mat[1])\n",
    "acc = (conf_mat[0][0] + conf_mat[1][1]) / sum(sum(conf_mat))\n",
    "print(\"recall = \" + str(recall))\n",
    "print(\"specificity = \" + str(specificity))\n",
    "print(\"acc = \" + str(acc))"
   ]
  },
  {
   "cell_type": "code",
   "execution_count": 26,
   "metadata": {},
   "outputs": [
    {
     "name": "stdout",
     "output_type": "stream",
     "text": [
      "[[24 10]\n",
      " [ 8 26]]\n"
     ]
    }
   ],
   "source": [
    "print(conf_mat)"
   ]
  },
  {
   "cell_type": "code",
   "execution_count": null,
   "metadata": {},
   "outputs": [],
   "source": []
  }
 ],
 "metadata": {
  "kernelspec": {
   "display_name": "Python 3",
   "language": "python",
   "name": "python3"
  },
  "language_info": {
   "codemirror_mode": {
    "name": "ipython",
    "version": 3
   },
   "file_extension": ".py",
   "mimetype": "text/x-python",
   "name": "python",
   "nbconvert_exporter": "python",
   "pygments_lexer": "ipython3",
   "version": "3.6.7"
  }
 },
 "nbformat": 4,
 "nbformat_minor": 2
}
