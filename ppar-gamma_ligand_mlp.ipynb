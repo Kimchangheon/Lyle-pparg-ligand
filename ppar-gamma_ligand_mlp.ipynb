{
 "cells": [
  {
   "cell_type": "markdown",
   "metadata": {},
   "source": [
    "# Development of a Multilayer Perceptron for Identifying PPARg Ligands (Agonists and Antagonists)\n",
    "\n",
    "This work is focused on developing a deep autoencoder model that can identify molecules that are likely to bind the PPARg receptor.\n",
    "\n",
    "**Objective:** To be able to use structure information only to identify if a chemical is likely to bind to the PPARg.\n",
    "\n",
    "**Approach:** \n",
    "\n",
    "1) Putative agonists will be obtained from the Tox21 Assay for PPARg agonists (https://pubchem.ncbi.nlm.nih.gov/bioassay/743140). \n",
    "\n",
    "2) Putative antagonists will be obtained from the Tox21 Assay for PPARg antagonists (https://pubchem.ncbi.nlm.nih.gov/bioassay/743199). \n",
    "\n",
    "3) Negatives will also be obtained from both summary studies.\n",
    "\n",
    "4) LOOXV will be used to estimate accuracy.\n",
    "\n",
    "Files from PubChem were processed using the pubchem_to_chem_info.py script. This was done outside of the notebook. Data preparation was also performed outside of the notebook. "
   ]
  },
  {
   "cell_type": "code",
   "execution_count": 11,
   "metadata": {},
   "outputs": [],
   "source": [
    "%matplotlib inline\n",
    "\n",
    "import numpy\n",
    "import pandas\n",
    "from keras.models import Sequential\n",
    "from keras.layers import Dense\n",
    "from keras.wrappers.scikit_learn import KerasClassifier\n",
    "from sklearn.model_selection import cross_val_score\n",
    "from sklearn.preprocessing import LabelEncoder\n",
    "from sklearn.model_selection import StratifiedKFold\n",
    "from sklearn.preprocessing import StandardScaler\n",
    "from sklearn.pipeline import Pipeline\n",
    "from sklearn.metrics import confusion_matrix\n",
    "from rdkit.Chem import AllChem\n",
    "from rdkit import DataStructs\n",
    "from rdkit.Chem import Draw\n",
    "from rdkit.Chem.Draw import SimilarityMaps\n",
    "from rdkit import Chem, DataStructs\n",
    "import seaborn as sns\n",
    "import matplotlib as mpl\n",
    "import matplotlib.pyplot as plt\n",
    "from sklearn.model_selection import cross_val_predict\n",
    "from sklearn.metrics import confusion_matrix\n",
    "from imblearn.over_sampling import SMOTE"
   ]
  },
  {
   "cell_type": "markdown",
   "metadata": {
    "collapsed": true
   },
   "source": [
    "Now that we have all of the libaries loaded, we will set our seed and load up the data."
   ]
  },
  {
   "cell_type": "code",
   "execution_count": 40,
   "metadata": {},
   "outputs": [],
   "source": [
    "#setting the seed for reproducibility\n",
    "#seed = 10110\n",
    "seed = 1206\n",
    "numpy.random.seed(seed)\n",
    "\n",
    "#load the dataset\n",
    "dataframe = pandas.read_csv(\"F:/UOSEST/Data/Lyle-pparg-ligand/input/pubchem_data/processed/pparg_ligand_data.txt\", sep=\"\\t\")"
   ]
  },
  {
   "cell_type": "code",
   "execution_count": 13,
   "metadata": {},
   "outputs": [
    {
     "data": {
      "text/plain": [
       "not_ligand    762\n",
       "ligand         34\n",
       "Name: Type, dtype: int64"
      ]
     },
     "execution_count": 13,
     "metadata": {},
     "output_type": "execute_result"
    },
    {
     "data": {
      "image/png": "[encoded data removed]",
      "text/plain": [
       "<Figure size 432x288 with 1 Axes>"
      ]
     },
     "metadata": {
      "needs_background": "light"
     },
     "output_type": "display_data"
    }
   ],
   "source": [
    "import seaborn as sns\n",
    "d = dataframe\n",
    "sns.countplot(d['Type'])\n",
    "d['Type'].value_counts()"
   ]
  },
  {
   "cell_type": "code",
   "execution_count": 30,
   "metadata": {},
   "outputs": [
    {
     "data": {
      "text/plain": [
       "not_ligand    762\n",
       "ligand         34\n",
       "Name: Type, dtype: int64"
      ]
     },
     "execution_count": 30,
     "metadata": {},
     "output_type": "execute_result"
    }
   ],
   "source": [
    "d['Type'].value_counts()"
   ]
  },
  {
   "cell_type": "markdown",
   "metadata": {},
   "source": [
    "The next step is to build the fingerprints. For this I am using the RDKit library. I prefer to use Morgan fingerprints for QSAR. Morgan fingerprints are 2-dimensional fingerprints. A circle of a defined radius is used define the neighborhood, and the neighborhood becomes the fingerprint. The RDKit has a far better explanation (http://www.rdkit.org/docs/GettingStartedInPython.html#morgan-fingerprints-circular-fingerprints)."
   ]
  },
  {
   "cell_type": "code",
   "execution_count": 14,
   "metadata": {},
   "outputs": [],
   "source": [
    "mols = []\n",
    "fps = []\n",
    "\n",
    "#get molecules and then get fingerprints from those\n",
    "for index, row in dataframe.iterrows():\n",
    "    mol = Chem.MolFromSmiles(row['SMILES'])\n",
    "    fp = AllChem.GetMorganFingerprintAsBitVect(mol, 2)\n",
    "    mols.append(mol)\n",
    "    fps.append(fp)\n",
    "\n",
    "#Convert the RDKit vectors into numpy arrays\n",
    "#Based on: http://www.rdkit.org/docs/Cookbook.html#using-scikit-learn-with-rdkit\n",
    "np_fps = []\n",
    "for fp in fps:\n",
    "    arr = numpy.zeros((1,))\n",
    "    DataStructs.ConvertToNumpyArray(fp, arr)\n",
    "    np_fps.append(arr)\n",
    "\n",
    "np_fps_array = numpy.array(np_fps)"
   ]
  },
  {
   "cell_type": "markdown",
   "metadata": {},
   "source": [
    "Now that we have fingerprints, we are going to encode our labels. Note that in the input file, our lables are \"ligand\" and \"not_ligand\". Keras would prefer we give it numeric labels, so I used the LabelEncoder function from sci-kit learn to encode the strings as integers."
   ]
  },
  {
   "cell_type": "code",
   "execution_count": 15,
   "metadata": {},
   "outputs": [],
   "source": [
    "#Need to encode my classes\n",
    "#Ligand = 0, not_ligand = 1\n",
    "encoder = LabelEncoder()\n",
    "encoder.fit(dataframe['Type'])\n",
    "enc_y = encoder.transform(dataframe['Type'])"
   ]
  },
  {
   "cell_type": "code",
   "execution_count": null,
   "metadata": {},
   "outputs": [],
   "source": [
    "from keras import backend as K\n",
    "import tensorflow as tf\n",
    "\n",
    "import dill\n",
    "\n",
    "\n",
    "def binary_focal_loss(gamma=2., alpha=.25):\n",
    "    \"\"\"\n",
    "    Binary form of focal loss.\n",
    "      FL(p_t) = -alpha * (1 - p_t)**gamma * log(p_t)\n",
    "      where p = sigmoid(x), p_t = p or 1 - p depending on if the label is 1 or 0, respectively.\n",
    "    References:\n",
    "        https://arxiv.org/pdf/1708.02002.pdf\n",
    "    Usage:\n",
    "     model.compile(loss=[binary_focal_loss(alpha=.25, gamma=2)], metrics=[\"accuracy\"], optimizer=adam)\n",
    "    \"\"\"\n",
    "def binary_focal_loss_fixed(y_true, y_pred):\n",
    "    \"\"\"\n",
    "    :param y_true: A tensor of the same shape as `y_pred`\n",
    "    :param y_pred:  A tensor resulting from a sigmoid\n",
    "    :return: Output tensor.\n",
    "    \"\"\"\n",
    "    pt_1 = tf.where(tf.equal(y_true, 1), y_pred, tf.ones_like(y_pred))\n",
    "    pt_0 = tf.where(tf.equal(y_true, 0), y_pred, tf.zeros_like(y_pred))\n",
    "\n",
    "    epsilon = K.epsilon()\n",
    "    # clip to prevent NaN's and Inf's\n",
    "    pt_1 = K.clip(pt_1, epsilon, 1. - epsilon)\n",
    "    pt_0 = K.clip(pt_0, epsilon, 1. - epsilon)\n",
    "\n",
    "    return -K.sum(alpha * K.pow(1. - pt_1, gamma) * K.log(pt_1)) \\\n",
    "           -K.sum((1 - alpha) * K.pow(pt_0, gamma) * K.log(1. - pt_0))\n",
    "\n",
    "return binary_focal_loss_fixed"
   ]
  },
  {
   "cell_type": "code",
   "execution_count": 16,
   "metadata": {},
   "outputs": [],
   "source": [
    "#Create the machine learning model\n",
    "from keras import optimizers\n",
    "def create_deep_learning_model():\n",
    "    model = Sequential()\n",
    "    model.add(Dense(2048, input_dim=2048, kernel_initializer='normal', activation='relu'))\n",
    "    model.add(Dense(1024, activation='relu'))\n",
    "    model.add(Dense(100, activation='relu'))\n",
    "    model.add(Dense(1, kernel_initializer='normal', activation='sigmoid'))\n",
    "    model.compile(loss='binary_crossentropy', optimizer='adam', metrics=['accuracy'])\n",
    "    return model"
   ]
  },
  {
   "cell_type": "code",
   "execution_count": 8,
   "metadata": {},
   "outputs": [
    {
     "data": {
      "text/plain": [
       "array([[4, 3],\n",
       "       [1, 2]], dtype=int64)"
      ]
     },
     "execution_count": 8,
     "metadata": {},
     "output_type": "execute_result"
    }
   ],
   "source": [
    "y_pred= [0,1,0,1,0,1,0,1,0,1]\n",
    "y_true = [0,0,0,0,0,0,0,1,1,1]\n",
    "confusion_matrix(y_true, y_pred)"
   ]
  },
  {
   "cell_type": "markdown",
   "metadata": {},
   "source": [
    "Now it's time to train the machine learning model. This model isn't very actually deep -- it doesn't need to be. It's a rather simple multilayer perceptron. The first layer is the input layer (and it is not specified). The second layer is a hidden, dense neural network where each neuron is connected to each feature. This gets narrowed down quickly to the third layer, and finally a single neuron output layer."
   ]
  },
  {
   "cell_type": "code",
   "execution_count": null,
   "metadata": {},
   "outputs": [],
   "source": [
    "#Create the machine learning model\n",
    "from keras import optimizers\n",
    "def create_deep_learning_model():\n",
    "    model = Sequential()\n",
    "    model.add(Dense(2048, input_dim=2048, kernel_initializer='normal', activation='relu'))\n",
    "    model.add(Dense(1024, activation='relu'))\n",
    "    model.add(Dense(100, activation='relu'))\n",
    "    model.add(Dense(1, kernel_initializer='normal', activation='sigmoid'))\n",
    "    sgd = optimizers.SGD(lr=0.01, decay=1e-6, momentum=0.9, nesterov=True)\n",
    "    model.compile(loss=[focal_loss], optimizer=sgd, metrics=['accuracy'])\n",
    "    return model"
   ]
  },
  {
   "cell_type": "code",
   "execution_count": null,
   "metadata": {},
   "outputs": [],
   "source": [
    "enc_y = numpy.array(list(enc_y))\n",
    "nonactive = enc_y[enc_y==1][:100]"
   ]
  },
  {
   "cell_type": "code",
   "execution_count": null,
   "metadata": {},
   "outputs": [],
   "source": [
    "np_fps_array_na=np_fps_array[enc_y==1][:100]"
   ]
  },
  {
   "cell_type": "code",
   "execution_count": null,
   "metadata": {},
   "outputs": [],
   "source": [
    "nonactive.shape"
   ]
  },
  {
   "cell_type": "code",
   "execution_count": null,
   "metadata": {},
   "outputs": [],
   "source": [
    "np_fps_array = numpy.concatenate( [np_fps_array[enc_y==0], np_fps_array_na] )"
   ]
  },
  {
   "cell_type": "code",
   "execution_count": null,
   "metadata": {},
   "outputs": [],
   "source": [
    "enc_y = numpy.concatenate( [enc_y[enc_y==0], nonactive])"
   ]
  },
  {
   "cell_type": "code",
   "execution_count": 65,
   "metadata": {},
   "outputs": [],
   "source": [
    "from sklearn.utils import shuffle\n",
    "seed = 5465466\n",
    "numpy.random.seed(seed)\n",
    "tmp = [[x,y] for x, y in zip(np_fps_array, enc_y)]\n",
    "tmp = shuffle(tmp)\n",
    "X= [n[0] for n in tmp]\n",
    "Y = [n[1] for n in tmp]"
   ]
  },
  {
   "cell_type": "code",
   "execution_count": 66,
   "metadata": {},
   "outputs": [],
   "source": [
    "n = len(X)\n",
    "p = 0.8\n",
    "X_test = X[int(n*p):]\n",
    "Y_test = Y[int(n*p):]\n",
    "\n",
    "X_train = X[:int(n*p)]\n",
    "Y_train = Y[:int(n*p)]"
   ]
  },
  {
   "cell_type": "code",
   "execution_count": 67,
   "metadata": {},
   "outputs": [
    {
     "data": {
      "text/plain": [
       "1    610\n",
       "0     26\n",
       "dtype: int64"
      ]
     },
     "execution_count": 67,
     "metadata": {},
     "output_type": "execute_result"
    },
    {
     "data": {
      "image/png": "[encoded data removed]",
      "text/plain": [
       "<Figure size 432x288 with 1 Axes>"
      ]
     },
     "metadata": {
      "needs_background": "light"
     },
     "output_type": "display_data"
    }
   ],
   "source": [
    "import seaborn as sns\n",
    "d = dataframe\n",
    "sns.countplot(Y_train)\n",
    "pandas.Series(Y_train).value_counts()"
   ]
  },
  {
   "cell_type": "code",
   "execution_count": 68,
   "metadata": {},
   "outputs": [
    {
     "data": {
      "text/plain": [
       "1    152\n",
       "0      8\n",
       "dtype: int64"
      ]
     },
     "execution_count": 68,
     "metadata": {},
     "output_type": "execute_result"
    },
    {
     "data": {
      "image/png": "[encoded data removed]",
      "text/plain": [
       "<Figure size 432x288 with 1 Axes>"
      ]
     },
     "metadata": {
      "needs_background": "light"
     },
     "output_type": "display_data"
    }
   ],
   "source": [
    "import seaborn as sns\n",
    "d = dataframe\n",
    "sns.countplot(Y_test)\n",
    "pandas.Series(Y_test).value_counts()"
   ]
  },
  {
   "cell_type": "code",
   "execution_count": null,
   "metadata": {},
   "outputs": [],
   "source": [
    "n = 0\n",
    "for (index, i) in enumerate(Y_train) :\n",
    "    if(i==0) :\n",
    "        print(index)\n",
    "        break\n",
    "    "
   ]
  },
  {
   "cell_type": "code",
   "execution_count": null,
   "metadata": {},
   "outputs": [],
   "source": [
    "sm = SMOTE(random_state=12, ratio = 'minority')\n",
    "x_train_res, y_train_res = sm.fit_sample(X_train, Y_train)"
   ]
  },
  {
   "cell_type": "code",
   "execution_count": null,
   "metadata": {},
   "outputs": [],
   "source": [
    "numpy.savetxt(\"F:/UOSEST/Data/Lyle-pparg-ligand/active_sample_after_smote.csv\", x_train_res[27], delimiter=\",\")"
   ]
  },
  {
   "cell_type": "code",
   "execution_count": null,
   "metadata": {},
   "outputs": [],
   "source": [
    "class_weight={0:0.5, 1:1e-3}"
   ]
  },
  {
   "cell_type": "code",
   "execution_count": null,
   "metadata": {},
   "outputs": [],
   "source": [
    "estimator = KerasClassifier(build_fn=create_deep_learning_model,epochs=100, batch_size=10, class_weight =class_weight)"
   ]
  },
  {
   "cell_type": "code",
   "execution_count": null,
   "metadata": {},
   "outputs": [],
   "source": [
    "estimator.fit(x_train_res, y_train_res,class_weight=class_weight)"
   ]
  },
  {
   "cell_type": "code",
   "execution_count": 76,
   "metadata": {
    "scrolled": true
   },
   "outputs": [
    {
     "data": {
      "text/plain": [
       "636"
      ]
     },
     "execution_count": 76,
     "metadata": {},
     "output_type": "execute_result"
    }
   ],
   "source": [
    "len(X_train)"
   ]
  },
  {
   "cell_type": "code",
   "execution_count": 96,
   "metadata": {},
   "outputs": [],
   "source": [
    "Y_train= numpy.array(Y_train)\n",
    "Y_pred"
   ]
  },
  {
   "cell_type": "markdown",
   "metadata": {},
   "source": [
    "# no sampling"
   ]
  },
  {
   "cell_type": "code",
   "execution_count": 97,
   "metadata": {
    "scrolled": true
   },
   "outputs": [
    {
     "name": "stdout",
     "output_type": "stream",
     "text": [
      "Epoch 1/5\n",
      "636/636 [==============================] - 1s 2ms/step - loss: 0.2357 - acc: 0.9528\n",
      "Epoch 2/5\n",
      "636/636 [==============================] - 1s 1ms/step - loss: 0.0883 - acc: 0.9686\n",
      "Epoch 3/5\n",
      "636/636 [==============================] - 1s 1ms/step - loss: 0.0402 - acc: 0.9906\n",
      "Epoch 4/5\n",
      "636/636 [==============================] - 1s 1ms/step - loss: 0.0071 - acc: 0.9969\n",
      "Epoch 5/5\n",
      "636/636 [==============================] - 1s 1ms/step - loss: 0.0022 - acc: 1.0000\n"
     ]
    },
    {
     "data": {
      "text/plain": [
       "<keras.callbacks.History at 0x2439f9bbf98>"
      ]
     },
     "execution_count": 97,
     "metadata": {},
     "output_type": "execute_result"
    }
   ],
   "source": [
    "X_train = numpy.array(X_train)\n",
    "estimator = create_deep_learning_model()\n",
    "estimator = KerasClassifier(build_fn=create_deep_learning_model,epochs=10, batch_size=10)\n",
    "estimator.fit(X_train, Y_train, epochs=5, batch_size = 5)"
   ]
  },
  {
   "cell_type": "code",
   "execution_count": 112,
   "metadata": {},
   "outputs": [],
   "source": [
    "X_test = numpy.array(X_test)\n",
    "Y_test = numpy.array(Y_test)\n",
    "Y_pred = estimator.predict(X_test)\n",
    "y_pred = [] \n",
    "for i in Y_pred : \n",
    "    if(i> 0.5) :\n",
    "        y_pred.append(1)\n",
    "    else : \n",
    "        y_pred.append(0)"
   ]
  },
  {
   "cell_type": "code",
   "execution_count": 113,
   "metadata": {},
   "outputs": [
    {
     "data": {
      "text/plain": [
       "[1,\n",
       " 1,\n",
       " 1,\n",
       " 1,\n",
       " 1,\n",
       " 1,\n",
       " 1,\n",
       " 1,\n",
       " 1,\n",
       " 1,\n",
       " 1,\n",
       " 1,\n",
       " 1,\n",
       " 1,\n",
       " 1,\n",
       " 1,\n",
       " 1,\n",
       " 1,\n",
       " 1,\n",
       " 1,\n",
       " 1,\n",
       " 1,\n",
       " 1,\n",
       " 1,\n",
       " 1,\n",
       " 1,\n",
       " 1,\n",
       " 1,\n",
       " 1,\n",
       " 1,\n",
       " 1,\n",
       " 1,\n",
       " 1,\n",
       " 1,\n",
       " 1,\n",
       " 1,\n",
       " 1,\n",
       " 1,\n",
       " 1,\n",
       " 1,\n",
       " 1,\n",
       " 1,\n",
       " 1,\n",
       " 1,\n",
       " 1,\n",
       " 1,\n",
       " 1,\n",
       " 1,\n",
       " 1,\n",
       " 1,\n",
       " 1,\n",
       " 1,\n",
       " 1,\n",
       " 1,\n",
       " 1,\n",
       " 1,\n",
       " 1,\n",
       " 1,\n",
       " 1,\n",
       " 1,\n",
       " 1,\n",
       " 1,\n",
       " 1,\n",
       " 1,\n",
       " 1,\n",
       " 1,\n",
       " 1,\n",
       " 1,\n",
       " 1,\n",
       " 1,\n",
       " 1,\n",
       " 1,\n",
       " 1,\n",
       " 1,\n",
       " 1,\n",
       " 1,\n",
       " 1,\n",
       " 1,\n",
       " 1,\n",
       " 1,\n",
       " 1,\n",
       " 1,\n",
       " 1,\n",
       " 1,\n",
       " 1,\n",
       " 1,\n",
       " 1,\n",
       " 1,\n",
       " 1,\n",
       " 1,\n",
       " 1,\n",
       " 1,\n",
       " 1,\n",
       " 1,\n",
       " 1,\n",
       " 1,\n",
       " 1,\n",
       " 1,\n",
       " 1,\n",
       " 1,\n",
       " 1,\n",
       " 1,\n",
       " 1,\n",
       " 1,\n",
       " 1,\n",
       " 1,\n",
       " 1,\n",
       " 1,\n",
       " 1,\n",
       " 1,\n",
       " 1,\n",
       " 1,\n",
       " 1,\n",
       " 1,\n",
       " 1,\n",
       " 1,\n",
       " 1,\n",
       " 1,\n",
       " 1,\n",
       " 1,\n",
       " 1,\n",
       " 1,\n",
       " 1,\n",
       " 1,\n",
       " 1,\n",
       " 1,\n",
       " 1,\n",
       " 1,\n",
       " 1,\n",
       " 1,\n",
       " 1,\n",
       " 1,\n",
       " 1,\n",
       " 1,\n",
       " 1,\n",
       " 1,\n",
       " 1,\n",
       " 1,\n",
       " 1,\n",
       " 1,\n",
       " 1,\n",
       " 1,\n",
       " 1,\n",
       " 1,\n",
       " 1,\n",
       " 1,\n",
       " 1,\n",
       " 1,\n",
       " 1,\n",
       " 1,\n",
       " 1,\n",
       " 1,\n",
       " 1,\n",
       " 1,\n",
       " 1,\n",
       " 1,\n",
       " 1,\n",
       " 1,\n",
       " 1,\n",
       " 1]"
      ]
     },
     "execution_count": 113,
     "metadata": {},
     "output_type": "execute_result"
    }
   ],
   "source": [
    "y_pred"
   ]
  },
  {
   "cell_type": "code",
   "execution_count": 115,
   "metadata": {},
   "outputs": [],
   "source": [
    "\n",
    "conf_mat = confusion_matrix(Y_test, y_pred)"
   ]
  },
  {
   "cell_type": "code",
   "execution_count": 116,
   "metadata": {},
   "outputs": [
    {
     "data": {
      "text/plain": [
       "array([[  0,   8],\n",
       "       [  0, 152]], dtype=int64)"
      ]
     },
     "execution_count": 116,
     "metadata": {},
     "output_type": "execute_result"
    }
   ],
   "source": [
    "conf_mat"
   ]
  },
  {
   "cell_type": "code",
   "execution_count": null,
   "metadata": {},
   "outputs": [],
   "source": [
    "from sklearn.metrics import roc_auc_score\n",
    "import pandas as pd\n",
    "import numpy as np"
   ]
  },
  {
   "cell_type": "code",
   "execution_count": null,
   "metadata": {},
   "outputs": [],
   "source": [
    "import matplotlib\n",
    "import matplotlib.pyplot as plt\n",
    "from sklearn.metrics import roc_curve, auc\n",
    "\n",
    "def graph(target) :\n",
    "    class_RF = y_te[target][rows_te].ravel()\n",
    "    proba_RF = p_te[:,1]\n",
    "\n",
    "    false_positive_rate_RF, true_positive_rate_RF, thresholds_RF = roc_curve(class_RF, proba_RF)\n",
    "    roc_auc_RF = auc(false_positive_rate_RF,true_positive_rate_RF)\n",
    "    fig = plt.figure()\n",
    "    plt.title('Receiver Operating Characteristic')\n",
    "    plt.xlabel('False Positive Rate(1 - Specificity)')\n",
    "    plt.ylabel('True Positive Rate(Sensitivity)')\n",
    "\n",
    "\n",
    "    plt.plot(false_positive_rate_RF, true_positive_rate_RF, 'b', label='Model RF (AUC = %0.2f)'% roc_auc_RF)\n",
    "    plt.plot([0,1],[1,1],'y--')\n",
    "    plt.plot([0,1],[0,1],'r--')\n",
    "\n",
    "    plt.legend(loc='lower right')\n",
    "    plt.show()\n",
    "\n",
    "    fig.savefig(target+ '_RF.png')"
   ]
  },
  {
   "cell_type": "code",
   "execution_count": null,
   "metadata": {},
   "outputs": [],
   "source": [
    "list(Y_test).count(0)"
   ]
  },
  {
   "cell_type": "code",
   "execution_count": null,
   "metadata": {},
   "outputs": [],
   "source": [
    "y_pred = estimator.predict(numpy.asarray(X_test[:50]))"
   ]
  },
  {
   "cell_type": "code",
   "execution_count": null,
   "metadata": {},
   "outputs": [],
   "source": [
    "confusion_matrix(Y_test[:50],y_pred[:50])"
   ]
  },
  {
   "cell_type": "code",
   "execution_count": null,
   "metadata": {},
   "outputs": [],
   "source": [
    "\n",
    "# evaluate model with standardized dataset\n",
    "#estimator = KerasClassifier(build_fn=create_deep_learning_model, nb_epoch=100, batch_size=5, verbose=0)\n",
    "#estimator = KerasClassifier(build_fn=create_deep_learning_model, nb_epoch=10, batch_size=5) #changed to nb epoches\n",
    "estimator = KerasClassifier(build_fn=create_deep_learning_model,epochs=10, batch_size=5)\n",
    "kfold = StratifiedKFold(n_splits=5, shuffle=True, random_state=seed)\n",
    "#results = cross_val_score(estimator, np_fps_array, enc_y, cv=kfold)\n",
    "# results = cross_val_score(estimator, x_train_res, y_train_res, cv=kfold)\n",
    "print(\"Results: %.2f%% (%.2f%%)\" % (results.mean()*100, results.std()*100))\n",
    "\n",
    "y_pred = cross_val_predict(estimator, x_train_res, y_train_res, cv=kfold)\n",
    "conf_mat = confusion_matrix(y_train_res, y_pred)\n",
    "conf_mat"
   ]
  },
  {
   "cell_type": "code",
   "execution_count": null,
   "metadata": {},
   "outputs": [],
   "source": [
    "x_train_res"
   ]
  },
  {
   "cell_type": "code",
   "execution_count": null,
   "metadata": {},
   "outputs": [],
   "source": [
    "estimator = KerasClassifier(build_fn=create_deep_learning_model,epochs=2,batch_size=5)\n",
    "kfold = StratifiedKFold(n_splits=5, shuffle=True, random_state=seed)\n",
    "#results = cross_val_score(estimator, np_fps_array, enc_y, cv=kfold)\n",
    "results = cross_val_score(estimator, x_train_res, y_train_res, cv=kfold)"
   ]
  },
  {
   "cell_type": "code",
   "execution_count": null,
   "metadata": {},
   "outputs": [],
   "source": [
    "print(\"Results: %.2f%% (%.2f%%)\" % (results.mean()*100, results.std()*100))"
   ]
  },
  {
   "cell_type": "code",
   "execution_count": null,
   "metadata": {},
   "outputs": [],
   "source": [
    "estimator = KerasClassifier(build_fn=create_deep_learning_model,epochs=1,batch_size=5)\n",
    "kfold = StratifiedKFold(n_splits=2, shuffle=True, random_state=seed)\n",
    "#results = cross_val_score(estimator, np_fps_array, enc_y, cv=kfold)\n",
    "results = cross_val_score(estimator, x_train_res, y_train_res, cv=kfold)\n",
    "print(\"Results: %.2f%% (%.2f%%)\" % (results.mean()*100, results.std()*100))"
   ]
  },
  {
   "cell_type": "markdown",
   "metadata": {},
   "source": [
    "We can see that we have reasonable performance."
   ]
  },
  {
   "cell_type": "markdown",
   "metadata": {},
   "source": [
    "What we notice right away is that we have some misclassifications -- as expected. We have 6 ligand cases misclassified as not-ligand, and we have 8 not-ligand cases misclassified as ligand. Overall the model is performing quite well.\n",
    "\n",
    "From a practical standpoint, we are interested in knowing what is the probability that a chemical is actually a PPARg ligand if the model says it is. We will use Bayes rule to calculate this.\n",
    "\n",
    "Note that some of the exact percentages may be off due to weirdness with respect to the random seed not leading to 100% reproducible results. I'm not sure why this is.\n",
    "\n",
    "Based on the Tox21 data we have, we have a prior probability that a chemical is a PPARg ligand of 4% (33/796), and a prior probability of not being a PPARg ligand of 96% (100%-4%).\n",
    "\n",
    "Our evidence from the model is encapsulated in the confusion matrix and the figure above. For ease of calculation, we are going to use the confusion matrix (if we used information from the plot the likelihood values would not change much). The probability that the model predicts a chemical to be a ligand given the fact that it actually is a ligand is the true positive rate, which is about 99% (756/(756+6)). The probability that the model predicts a chemical to  be a ligand when it is not a ligand is the false positive rate, which is about 1.0% (8/(8+754)). \n",
    "\n",
    "The posterior probability that a chemical is a ligand given that the model predicts it is a ligand is: \n",
    "\n",
    "P(ligand | predicted ligand) = (0.99 x 0.04)/((0.99 x 0.04)+(0.01 x 0.96) = 0.80\n",
    "\n",
    "Likewise, the posterior probability that a chemical is not a ligand given that the model predicts it is a ligand is:\n",
    "\n",
    "P(not ligand | predicted ligand) = (0.017 x 0.96)/((0.017 x 0.96)+(0.99 x 0.04) = 0.20\n",
    "\n",
    "This resuls in a posterior odds of 0.80/0.20 = 4:1\n",
    "\n",
    "Interestingly, we started with prior odds of a chemical being a ligand of 0.04 / 0.96 = 1:24. What this means is that out of the box, we would expect that only 4% of chemicals chosen at random would be a PPARg ligand. Our likelihood ratio of a predicted ligand being a ligand to a predicted ligand not being a ligand is 0.99 / 0.01 = 99:1. The likelihood ratio is the evidence that we have from the model -- based on the validation data the chemical has a true positive rate of 99% and a false positive rate of 0.5%. Put these lines of evidence together, and we have a posterior odds of 4:1. What this means is that if the model states that the chemical is a PPARg ligand, then we have 8.90:1 odds that it is a PPARg ligand.\n",
    "\n"
   ]
  },
  {
   "cell_type": "markdown",
   "metadata": {},
   "source": [
    "Now I'm going to do some chemical structure comparisons graphically to see if I can identify some structures that ligands might share. This isn't an exhaustive search, and one isn't possible. However, this may help to illuminate some structures that are shared by known ligands. In this case, I'm going to be focusing on the known ligands pirinixic acid, liothyronine, oxaprozin, lansoprazole, romazarit, and linoleic acid."
   ]
  },
  {
   "cell_type": "code",
   "execution_count": null,
   "metadata": {},
   "outputs": [],
   "source": [
    "pirinixic_acid = Chem.MolFromSmiles('CC1=C(C(=CC=C1)NC2=CC(=NC(=N2)SCC(=O)O)Cl)C')\n",
    "liothyronine = Chem.MolFromSmiles('C1=CC(=C(C=C1OC2=C(C=C(C=C2I)CC(C(=O)O)N)I)I)O')\n",
    "fig, maxweight = SimilarityMaps.GetSimilarityMapForFingerprint(pirinixic_acid, liothyronine, \n",
    "                                                               SimilarityMaps.GetMorganFingerprint)"
   ]
  },
  {
   "cell_type": "code",
   "execution_count": null,
   "metadata": {},
   "outputs": [],
   "source": [
    "oxaprozin = Chem.MolFromSmiles('C1=CC=C(C=C1)C2=C(OC(=N2)CCC(=O)O)C3=CC=CC=C3')\n",
    "fig, maxweight = SimilarityMaps.GetSimilarityMapForFingerprint(pirinixic_acid, oxaprozin, \n",
    "                                                               SimilarityMaps.GetMorganFingerprint)"
   ]
  },
  {
   "cell_type": "code",
   "execution_count": null,
   "metadata": {},
   "outputs": [],
   "source": [
    "lansoprazole = Chem.MolFromSmiles('CC1=C(C=CN=C1CS(=O)C2=NC3=CC=CC=C3N2)OCC(F)(F)F')\n",
    "fig, maxweight = SimilarityMaps.GetSimilarityMapForFingerprint(pirinixic_acid, lansoprazole, \n",
    "                                                               SimilarityMaps.GetMorganFingerprint)"
   ]
  },
  {
   "cell_type": "code",
   "execution_count": null,
   "metadata": {},
   "outputs": [],
   "source": [
    "romazarit = Chem.MolFromSmiles('CC1=C(OC(=N1)C2=CC=C(C=C2)Cl)COC(C)(C)C(=O)O')\n",
    "fig, maxweight = SimilarityMaps.GetSimilarityMapForFingerprint(pirinixic_acid, romazarit, \n",
    "                                                               SimilarityMaps.GetMorganFingerprint)"
   ]
  },
  {
   "cell_type": "code",
   "execution_count": null,
   "metadata": {},
   "outputs": [],
   "source": [
    "linoleic_acid = Chem.MolFromSmiles('CCCCCC=CCC=CCCCCCCCC(=O)O')\n",
    "fig, maxweight = SimilarityMaps.GetSimilarityMapForFingerprint(pirinixic_acid, linoleic_acid,\n",
    "                                                               SimilarityMaps.GetMorganFingerprint)"
   ]
  },
  {
   "cell_type": "code",
   "execution_count": null,
   "metadata": {},
   "outputs": [],
   "source": [
    "fig, maxweight = SimilarityMaps.GetSimilarityMapForFingerprint(linoleic_acid, pirinixic_acid, \n",
    "                                                               SimilarityMaps.GetMorganFingerprint)"
   ]
  },
  {
   "cell_type": "code",
   "execution_count": null,
   "metadata": {
    "scrolled": false
   },
   "outputs": [],
   "source": [
    "fig, maxweight = SimilarityMaps.GetSimilarityMapForFingerprint(liothyronine, linoleic_acid,  \n",
    "                                                               SimilarityMaps.GetMorganFingerprint)"
   ]
  },
  {
   "cell_type": "code",
   "execution_count": null,
   "metadata": {},
   "outputs": [],
   "source": [
    "fig, maxweight = SimilarityMaps.GetSimilarityMapForFingerprint(linoleic_acid, liothyronine,   \n",
    "                                                               SimilarityMaps.GetMorganFingerprint)"
   ]
  },
  {
   "cell_type": "code",
   "execution_count": null,
   "metadata": {},
   "outputs": [],
   "source": [
    "fig, maxweight = SimilarityMaps.GetSimilarityMapForFingerprint(oxaprozin, linoleic_acid, \n",
    "                                                               SimilarityMaps.GetMorganFingerprint)"
   ]
  },
  {
   "cell_type": "code",
   "execution_count": null,
   "metadata": {},
   "outputs": [],
   "source": [
    "fig, maxweight = SimilarityMaps.GetSimilarityMapForFingerprint(linoleic_acid, oxaprozin,  \n",
    "                                                               SimilarityMaps.GetMorganFingerprint)"
   ]
  },
  {
   "cell_type": "code",
   "execution_count": null,
   "metadata": {},
   "outputs": [],
   "source": [
    "fig, maxweight = SimilarityMaps.GetSimilarityMapForFingerprint(lansoprazole, linoleic_acid, \n",
    "                                                               SimilarityMaps.GetMorganFingerprint)"
   ]
  },
  {
   "cell_type": "code",
   "execution_count": null,
   "metadata": {},
   "outputs": [],
   "source": [
    "fig, maxweight = SimilarityMaps.GetSimilarityMapForFingerprint(linoleic_acid, lansoprazole,  \n",
    "                                                               SimilarityMaps.GetMorganFingerprint)"
   ]
  },
  {
   "cell_type": "code",
   "execution_count": null,
   "metadata": {},
   "outputs": [],
   "source": [
    "fig, maxweight = SimilarityMaps.GetSimilarityMapForFingerprint(romazarit, linoleic_acid,  \n",
    "                                                               SimilarityMaps.GetMorganFingerprint)"
   ]
  },
  {
   "cell_type": "code",
   "execution_count": null,
   "metadata": {},
   "outputs": [],
   "source": [
    "fig, maxweight = SimilarityMaps.GetSimilarityMapForFingerprint(linoleic_acid, romazarit, \n",
    "                                                               SimilarityMaps.GetMorganFingerprint)"
   ]
  },
  {
   "cell_type": "markdown",
   "metadata": {},
   "source": [
    "Of all the ligands, linoleic acid is the one that is most at risk of looking like a non-ligand; however, it still has a very strong probability at 0.057 (recall that scores closer to 0 are more likely ligands, while scores closer to 1 are more likely non-ligands. Let's examine how the linoleic acid structure compares to many of the others.\n",
    "\n",
    "Just among this small random sampling of chemicals, a few characteristics are beginning to emerge. Keep in mind, these compounds represent agonists and antagonists. The reference compound, pirinixic acid, oxaprozin, and romazarit are agonists. Liothyronine and lansoprazole are antagonists.\n",
    "\n",
    "What one sees is that aromatic groups, carboxylic acids, and imines tend to be shared amongst the group of ligands. In addition, oxazole rings, ethers, and amines tend to not be shared amongst the PPARg ligands, based on comparison to the prototypic pirinixic acid structure. "
   ]
  },
  {
   "cell_type": "markdown",
   "metadata": {},
   "source": [
    "## Writing the Prediction Results to File"
   ]
  },
  {
   "cell_type": "code",
   "execution_count": null,
   "metadata": {},
   "outputs": [],
   "source": [
    "confusion_df.to_csv(\"./confusion_matrix.txt\", sep='\\t', index=False, header=False)"
   ]
  },
  {
   "cell_type": "markdown",
   "metadata": {},
   "source": [
    "Next, the model is saved."
   ]
  },
  {
   "cell_type": "code",
   "execution_count": null,
   "metadata": {},
   "outputs": [],
   "source": [
    "# model = create_deep_learning_model()\n",
    "# model.fit(x_train_res, y_train_res, epochs=5, batch_size=5, ) #This code has no effect on model accuracy.\n",
    "model.save('pparg_ligand_model(estimator).h5')"
   ]
  },
  {
   "cell_type": "code",
   "execution_count": null,
   "metadata": {},
   "outputs": [],
   "source": []
  }
 ],
 "metadata": {
  "kernelspec": {
   "display_name": "Python 3",
   "language": "python",
   "name": "python3"
  },
  "language_info": {
   "codemirror_mode": {
    "name": "ipython",
    "version": 3
   },
   "file_extension": ".py",
   "mimetype": "text/x-python",
   "name": "python",
   "nbconvert_exporter": "python",
   "pygments_lexer": "ipython3",
   "version": "3.6.7"
  }
 },
 "nbformat": 4,
 "nbformat_minor": 2
}
