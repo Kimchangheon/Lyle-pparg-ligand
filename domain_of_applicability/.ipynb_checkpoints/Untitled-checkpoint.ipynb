{
 "cells": [
  {
   "cell_type": "code",
   "execution_count": 1,
   "metadata": {},
   "outputs": [],
   "source": [
    "\"\"\"Perform domain of applicability analysis.\"\"\"\n",
    "\n",
    "import numpy as np\n",
    "import pandas\n",
    "import sys\n",
    "from sklearn.decomposition import PCA as sklearnPCA\n",
    "from rdkit.Chem import AllChem\n",
    "from rdkit import DataStructs\n",
    "from rdkit import Chem, DataStructs\n",
    "import seaborn as sns\n",
    "import matplotlib.pyplot as plt\n",
    "from scipy.spatial import ConvexHull\n",
    "\n",
    "dataframe = pandas.read_csv(\"../pubchem_data/processed/pparg_ligand_data.txt\",\n",
    "                            sep=\"\\t\")\n",
    "mols = []\n",
    "fps = []\n",
    "\n",
    "for index, row in dataframe.iterrows():\n",
    "    mol = Chem.MolFromSmiles(row['SMILES'])\n",
    "    fp = AllChem.GetMorganFingerprintAsBitVect(mol, 2)\n",
    "    mols.append(mol)\n",
    "    fps.append(fp)\n",
    "\n",
    "np_fps = []\n",
    "for fp in fps:\n",
    "    arr = numpy.zeros((1,))\n",
    "    DataStructs.ConvertToNumpyArray(fp, arr)\n",
    "    np_fps.append(arr)\n",
    "\n",
    "np_fps_array = numpy.array(np_fps)\n",
    "\n",
    "sklearn_pca = sklearnPCA(n_components=2) # keep할 성분의 개수\n",
    "y_sklearn = sklearn_pca.fit_transform(np_fps_array)# 특징행렬을 낮은 차원의 근사행렬로 변환\n",
    "pccr = pandas.DataFrame(data=y_sklearn) #데이터 프레임으로 변환\n",
    "pccr.columns = ['PC1', 'PC2']\n",
    "# sns.jointplot(x=\"PC1\", y=\"PC2\", data=pccr)\n",
    "# plt.show()\n",
    "\n",
    "mols2 = []\n",
    "fps2 = []\n",
    "chem_names = []\n",
    "fn = 'TOX21_AhR_LUC_Agonist(input).csv'\n",
    "inputdata = pandas.read_csv(fn)\n",
    "for index, row in inputdata.iterrows():\n",
    "    chem_name = row['Chemical_Name']\n",
    "    mol = Chem.MolFromSmiles(row['SMILES'])\n",
    "    fp = AllChem.GetMorganFingerprintAsBitVect(mol, 2)\n",
    "    mols2.append(mol)\n",
    "    fps2.append(fp)\n",
    "    chem_names.append(chem_name)\n",
    "\n",
    "np_fps2 = []\n",
    "for fp in fps2:\n",
    "    arr = numpy.zeros((1,))\n",
    "    DataStructs.ConvertToNumpyArray(fp, arr)\n",
    "    np_fps2.append(arr)\n",
    "\n",
    "np_fps_array2 = numpy.array(np_fps2)\n",
    "\n",
    "y_sklearn2 = sklearn_pca.fit_transform(np_fps_array2)\n",
    "pccr2 = pandas.DataFrame(data=y_sklearn2)\n",
    "pccr2.columns = ['PC1', 'PC2']\n",
    "\n",
    "outfile = open(sys.argv[1] + \"_domain_of_applicability.txt\", 'w')\n",
    "outfile.write(\"Chemical Name\\tWithin Domain of Applicability\\n\")\n",
    "\n",
    "\n",
    "def is_p_inside_points_hull(points, p):\n",
    "    \"\"\"Check if a point is inside the convex hull.\"\"\"\n",
    "    hull = ConvexHull(points) #pparg dataset에 대한 convexHull을 만든다.\n",
    "    new_points = numpy.append(points, p, axis=0) #pparg와 tox21을 합친 데이터셋을 만든다. \n",
    "    new_hull = ConvexHull(new_points) # 합친걸로 .convexHull을 만든다.\n",
    "    if list(hull.vertices) == list(new_hull.vertices): #이 부분이 약간 이해가 안간다. \n",
    "        return \"true\"\n",
    "    else:\n",
    "        return \"false\"\n",
    "\n",
    "\n",
    "for i in range(0, len(pccr2)):\n",
    "    outfile.write(str(chem_names[i]) + \"\\t\" +\n",
    "                  is_p_inside_points_hull(pccr, pccr2.loc[[i]]) +\n",
    "                  \"\\n\")\n",
    "\n",
    "outfile.close()\n"
   ]
  },
  {
   "cell_type": "code",
   "execution_count": 4,
   "metadata": {},
   "outputs": [],
   "source": [
    "import numpy as np\n",
    "from scipy.spatial import ConvexHull\n",
    "points = np.random.rand(30, 2)"
   ]
  },
  {
   "cell_type": "code",
   "execution_count": 7,
   "metadata": {},
   "outputs": [],
   "source": [
    "hull = ConvexHull(points)"
   ]
  },
  {
   "cell_type": "code",
   "execution_count": 27,
   "metadata": {},
   "outputs": [
    {
     "data": {
      "image/png": "[encoded data removed]",
      "text/plain": [
       "<Figure size 432x288 with 1 Axes>"
      ]
     },
     "metadata": {
      "needs_background": "light"
     },
     "output_type": "display_data"
    }
   ],
   "source": [
    "import matplotlib.pyplot as plt\n",
    "plt.plot(points[:,0], points[:,1], 'o')\n",
    "for simplex in hull.simplices: # 둘러싸는 점들의 집합\n",
    "    plt.plot(points[simplex, 0], points[simplex, 1],'k-') #for문 돌면서 하나씩 이어준다. "
   ]
  },
  {
   "cell_type": "code",
   "execution_count": 21,
   "metadata": {},
   "outputs": [
    {
     "data": {
      "text/plain": [
       "array([0.74139076, 0.23090803])"
      ]
     },
     "execution_count": 21,
     "metadata": {},
     "output_type": "execute_result"
    }
   ],
   "source": [
    "points[simplex, 0]"
   ]
  },
  {
   "cell_type": "code",
   "execution_count": 22,
   "metadata": {},
   "outputs": [
    {
     "data": {
      "text/plain": [
       "array([0.05511404, 0.06492144])"
      ]
     },
     "execution_count": 22,
     "metadata": {},
     "output_type": "execute_result"
    }
   ],
   "source": [
    "points[simplex, 1]"
   ]
  },
  {
   "cell_type": "code",
   "execution_count": 20,
   "metadata": {},
   "outputs": [
    {
     "data": {
      "text/plain": [
       "array([[ 9,  8],\n",
       "       [ 7,  4],\n",
       "       [ 2,  4],\n",
       "       [ 2,  3],\n",
       "       [21,  3],\n",
       "       [21,  9],\n",
       "       [ 6,  8],\n",
       "       [ 6,  7]], dtype=int32)"
      ]
     },
     "execution_count": 20,
     "metadata": {},
     "output_type": "execute_result"
    }
   ],
   "source": [
    "hull.simplices"
   ]
  },
  {
   "cell_type": "code",
   "execution_count": 16,
   "metadata": {},
   "outputs": [
    {
     "data": {
      "text/plain": [
       "array([0.22181864, 0.7690755 , 0.15493471, 0.45646026, 0.03727695,\n",
       "       0.31224011, 0.74139076, 0.23090803, 0.97808589, 0.88825981,\n",
       "       0.76177258, 0.62962405, 0.17980619, 0.55437359, 0.31462661,\n",
       "       0.49998873, 0.52857808, 0.73421293, 0.37832716, 0.62509949,\n",
       "       0.17846504, 0.55619375, 0.85501183, 0.63500862, 0.81873529,\n",
       "       0.92916246, 0.73587495, 0.78201207, 0.52937209, 0.92346105])"
      ]
     },
     "execution_count": 16,
     "metadata": {},
     "output_type": "execute_result"
    }
   ],
   "source": [
    "points[:,0]"
   ]
  },
  {
   "cell_type": "code",
   "execution_count": 17,
   "metadata": {},
   "outputs": [
    {
     "data": {
      "text/plain": [
       "array([0.83030469, 0.15836206, 0.80503707, 0.97250723, 0.49083733,\n",
       "       0.31970389, 0.05511404, 0.06492144, 0.07395669, 0.89521416,\n",
       "       0.70697331, 0.90126167, 0.6349662 , 0.28613779, 0.49092472,\n",
       "       0.28827659, 0.84271928, 0.25095971, 0.1606807 , 0.30544037,\n",
       "       0.40302716, 0.96465434, 0.6182856 , 0.93693062, 0.06632353,\n",
       "       0.42757048, 0.74863259, 0.37740156, 0.22567616, 0.54086981])"
      ]
     },
     "execution_count": 17,
     "metadata": {},
     "output_type": "execute_result"
    }
   ],
   "source": [
    "points[:,1]"
   ]
  },
  {
   "cell_type": "code",
   "execution_count": null,
   "metadata": {},
   "outputs": [],
   "source": []
  }
 ],
 "metadata": {
  "kernelspec": {
   "display_name": "Python 3",
   "language": "python",
   "name": "python3"
  },
  "language_info": {
   "codemirror_mode": {
    "name": "ipython",
    "version": 3
   },
   "file_extension": ".py",
   "mimetype": "text/x-python",
   "name": "python",
   "nbconvert_exporter": "python",
   "pygments_lexer": "ipython3",
   "version": "3.6.6"
  }
 },
 "nbformat": 4,
 "nbformat_minor": 2
}
