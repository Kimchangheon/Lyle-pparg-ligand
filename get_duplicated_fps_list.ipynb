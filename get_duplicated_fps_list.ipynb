{
 "cells": [
  {
   "cell_type": "code",
   "execution_count": 35,
   "metadata": {},
   "outputs": [],
   "source": [
    "import numpy\n",
    "import pandas\n",
    "import h5py\n",
    "from keras.models import load_model\n",
    "from keras.models import Sequential\n",
    "from keras.layers import Dense\n",
    "from keras.wrappers.scikit_learn import KerasClassifier\n",
    "from sklearn.model_selection import cross_val_score\n",
    "from sklearn.preprocessing import LabelEncoder\n",
    "from sklearn.model_selection import StratifiedKFold\n",
    "from sklearn.preprocessing import StandardScaler\n",
    "from sklearn.pipeline import Pipeline\n",
    "from sklearn.metrics import confusion_matrix\n",
    "from rdkit.Chem import AllChem\n",
    "from rdkit import DataStructs\n",
    "from rdkit.Chem import Draw\n",
    "from rdkit.Chem.Draw import SimilarityMaps\n",
    "from rdkit import Chem, DataStructs\n",
    "import seaborn as sns\n",
    "import matplotlib as mpl\n",
    "import matplotlib.pyplot as plt\n",
    "\n",
    "# setting the seed for reproducibility\n",
    "seed = 10110\n",
    "numpy.random.seed(seed)\n",
    "\n",
    "# load the dataset\n",
    "dataframe = pandas.read_csv(\"./pubchem_data/processed/pparg_ligand_data.txt\",\n",
    "                            sep=\"\\t\")\n",
    "\n",
    "mols = []\n",
    "fps = []\n",
    "\n",
    "# get molecules and then get fingerprints from those\n",
    "for index, row in dataframe.iterrows():\n",
    "    mol = Chem.MolFromSmiles(row['SMILES'])\n",
    "    fp = AllChem.GetMorganFingerprintAsBitVect(mol, 1)\n",
    "    mols.append(mol)\n",
    "    fps.append(fp)\n",
    "\n",
    "# Convert the RDKit vectors into numpy arrays\n",
    "# Based: http://www.rdkit.org/docs/Cookbook.html#using-scikit-learn-with-rdkit\n",
    "np_fps = []\n",
    "for fp in fps:\n",
    "    arr = numpy.zeros((1,))\n",
    "    DataStructs.ConvertToNumpyArray(fp, arr)\n",
    "    np_fps.append(arr)\n",
    "\n",
    "np_fps_array = numpy.array(np_fps)\n",
    "\n",
    "# Need to encode my classes\n",
    "# Ligand = 0, not_ligand = 1\n",
    "encoder = LabelEncoder()\n",
    "encoder.fit(dataframe['Type'])\n",
    "enc_y = encoder.transform(dataframe['Type'])\n"
   ]
  },
  {
   "cell_type": "code",
   "execution_count": 30,
   "metadata": {},
   "outputs": [],
   "source": [
    "#convert np_array to string\n",
    "string_fps=[]\n",
    "k = 0\n",
    "for inner_np_fps in np_fps : \n",
    "    list2 = []\n",
    "    for i in inner_np_fps : \n",
    "        if i== 0 :\n",
    "            list2.append('0')\n",
    "        else :\n",
    "            list2.append('1')\n",
    "    string_fps.append(''.join(list2)) #join을 사용해서 list2에 있는 원소들을 합쳐서 문자열로 바꾼다. \n"
   ]
  },
  {
   "cell_type": "code",
   "execution_count": 31,
   "metadata": {},
   "outputs": [
    {
     "data": {
      "text/plain": [
       "792"
      ]
     },
     "execution_count": 31,
     "metadata": {},
     "output_type": "execute_result"
    }
   ],
   "source": [
    "#find same fringerfrint\n",
    "ex_string_fps = list(set(string_fps))\n",
    "len(ex_string_fps)"
   ]
  },
  {
   "cell_type": "code",
   "execution_count": 32,
   "metadata": {},
   "outputs": [],
   "source": [
    "duplicated_fps_list = [0 for i in range(796)]\n",
    "index_list_duplicated_fps= []\n",
    "i = 0\n",
    "for i in range(796) :\n",
    "    for k in range(795,i,-1) :\n",
    "        if string_fps[i]==string_fps[k] :\n",
    "            duplicated_fps_list[i] = string_fps[k] + \"index : \" + str(k)\n",
    "            index_list_duplicated_fps.append(str(i)+','+str(k))\n",
    "            \n",
    "            \n",
    "# for fringerprint in string_fps :"
   ]
  },
  {
   "cell_type": "code",
   "execution_count": 33,
   "metadata": {},
   "outputs": [
    {
     "name": "stdout",
     "output_type": "stream",
     "text": [
      "4\n"
     ]
    }
   ],
   "source": [
    "n =0\n",
    "for i in duplicated_fps_list : \n",
    "    if i!=0 : \n",
    "        n = n+1\n",
    "print(n)"
   ]
  },
  {
   "cell_type": "code",
   "execution_count": 34,
   "metadata": {},
   "outputs": [
    {
     "data": {
      "text/plain": [
       "['340,633', '558,789', '558,597', '559,602', '597,789']"
      ]
     },
     "execution_count": 34,
     "metadata": {},
     "output_type": "execute_result"
    }
   ],
   "source": [
    "index_list_duplicated_fps"
   ]
  },
  {
   "cell_type": "code",
   "execution_count": 27,
   "metadata": {},
   "outputs": [],
   "source": [
    "dataframe2 = pandas.read_csv(\"./pubchem_data/processed/pparg_ligand_data.txt\",\n",
    "                            sep=\"\\t\")\n",
    "dataframe2.to_csv(\"pparg_ligand_data.csv\", mode='w') #header=Fasle하니까 열이름이 사라지는구나ta.csv\")"
   ]
  }
 ],
 "metadata": {
  "kernelspec": {
   "display_name": "Python 3",
   "language": "python",
   "name": "python3"
  },
  "language_info": {
   "codemirror_mode": {
    "name": "ipython",
    "version": 3
   },
   "file_extension": ".py",
   "mimetype": "text/x-python",
   "name": "python",
   "nbconvert_exporter": "python",
   "pygments_lexer": "ipython3",
   "version": "3.6.6"
  }
 },
 "nbformat": 4,
 "nbformat_minor": 2
}
